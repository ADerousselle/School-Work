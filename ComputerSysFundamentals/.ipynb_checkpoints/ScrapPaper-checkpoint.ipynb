{
 "cells": [
  {
   "cell_type": "code",
   "execution_count": 23,
   "id": "ce3eceb4-2e9f-4fa8-8bab-1a045f366139",
   "metadata": {},
   "outputs": [],
   "source": [
    "import random\n",
    "import math\n",
    "\n",
    "part = 'a'\n",
    "duration = 20\n",
    "S1F=S2F=S1R=S2R=0\n",
    "mtbf = 500\n",
    "time = 0\n",
    "random_seed = random.uniform(0,999)\n",
    "seed_int = int(random_seed)\n",
    "random.seed(seed_int)"
   ]
  },
  {
   "cell_type": "code",
   "execution_count": 24,
   "id": "cda98f8d-f04a-4191-b4ac-f7bd43547e4e",
   "metadata": {},
   "outputs": [],
   "source": [
    "#Get server 1 and server 2's first failures\n",
    "S1F = -(1/mtbf) * math.log(random.random())\n",
    "S2F = -(1/mtbf) * math.log(random.random())\n",
    "#Get server 1 and server 2's first restore\n",
    "S1R = S1F + 10\n",
    "S2R = S2F + 10"
   ]
  },
  {
   "cell_type": "code",
   "execution_count": 25,
   "id": "5ca65c61-4d43-4827-bd74-60c3907271f2",
   "metadata": {},
   "outputs": [
    {
     "name": "stdout",
     "output_type": "stream",
     "text": [
      "S1T:\n",
      "[(0.00016962678741621318, 10.000169626787416)]\n",
      "S2T:\n",
      "[(0.0016395737536829315, 10.001639573753684)]\n"
     ]
    }
   ],
   "source": [
    "#Solution to part a\n",
    "if (part == 'a'):\n",
    "    S1T = []\n",
    "    S2T = []\n",
    "    #Add the first server 1 time frame (S1F, S1R) to the server 1 timeframe, same for server 2\n",
    "    S1T.append((S1F, S1R))\n",
    "    S2T.append((S2F, S2R))\n",
    "    #For each hour in within the duration, in hours.\n",
    "    for hr in range(duration * 365 *24):\n",
    "        #Server 1 fails while server 2 is still restoring break from the loop\n",
    "        if (((S1F >= S2F) and (S1F < S2R)) or ((S2F >= S1F) and (S2F < S1R))):\n",
    "            break \n",
    "        #If no failures, and S1 restore time frame is befor ethe S2 time frame\n",
    "        if (S1R <= S2F):\n",
    "            #Calculate the next S1 time frame\n",
    "            S1F = -(1/mtbf) * math.log(random.random())\n",
    "            S1R = S1F + 10\n",
    "            #Add the new time frame to S1T\n",
    "            S1T.append((S1F, S1R))\n",
    "            #Set the time to the restore point of the earlier time frame\n",
    "            time = S2R\n",
    "        #IF no failures, and S2 restore time frame is before the S1 time frame\n",
    "        elif (S2R <= S1F):\n",
    "            #Calculate the next S2 time frame\n",
    "            S2F = -(1/mtbf) * math.log(random.random())\n",
    "            S2R = S2F + 10\n",
    "            #Add the new time frame to S2T\n",
    "            S2T.append((S2F, S2R))\n",
    "            #Set the time to the restore point of the earlier time frame\n",
    "            time = S1R\n",
    "    print (f'S1T:\\n{S1T}\\nS2T:\\n{S2T}')"
   ]
  },
  {
   "cell_type": "code",
   "execution_count": null,
   "id": "a661c456-9050-4065-ac8c-094f94758960",
   "metadata": {},
   "outputs": [],
   "source": [
    "if (part == 'b'):\n",
    "    avg, x = 0\n",
    "    failure_times = []\n",
    "    while (x < 10):\n",
    "        #Server 1 fails while server 2 is still restoring or vice versa break from the loop\n",
    "        if (((S1F >= S2F) & (S1F < S2R)) | ((S2F >= S1F) & (S2F < S1R))):\n",
    "            if (S1F < S2F):\n",
    "                avg += S2F\n",
    "                failure_times = ((x, S2F))\n",
    "                x += 1\n",
    "            elif (S2F < S1F):\n",
    "                avg += S1F\n",
    "                failure_times = ((x, S1F))\n",
    "                x += 1\n",
    "        if (S1R <= S2F):\n",
    "            S1F = -(1/mtbf) * math.log(random.random())\n",
    "            S1R = S1F + 10\n",
    "        elif (S2R <= S1F):\n",
    "             S2F = -(1/mtbf) * math.log(random.random())\n",
    "             S2R = S2F + 10\n",
    "    avg = avg / 10\n",
    "    print(f'Average Failure Time: \"{avg}\\nFailure Times: {failure_times})"
   ]
  }
 ],
 "metadata": {
  "kernelspec": {
   "display_name": "Python 3 (ipykernel)",
   "language": "python",
   "name": "python3"
  },
  "language_info": {
   "codemirror_mode": {
    "name": "ipython",
    "version": 3
   },
   "file_extension": ".py",
   "mimetype": "text/x-python",
   "name": "python",
   "nbconvert_exporter": "python",
   "pygments_lexer": "ipython3",
   "version": "3.11.5"
  }
 },
 "nbformat": 4,
 "nbformat_minor": 5
}
