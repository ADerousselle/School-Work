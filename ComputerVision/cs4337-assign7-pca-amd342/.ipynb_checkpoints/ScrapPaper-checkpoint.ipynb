{
 "cells": [
  {
   "cell_type": "code",
   "execution_count": 1,
   "id": "e65d8634-d6e9-4ff9-89d3-835a072256ce",
   "metadata": {},
   "outputs": [],
   "source": [
    "import os\n",
    "import sys\n",
    "import numpy as np\n",
    "import cv2\n",
    "import matplotlib.pyplot as plt\n",
    "from get_eigenvectors import get_eigenvectors\n",
    "from pca_detect_digit import pca_detect_digit\n",
    "from draw_rectangle import draw_rectangle\n",
    "\n",
    "# Get the absolute path of the script's directory\n",
    "current_directory = os.getcwd()\n",
    "# Get the parent directory\n",
    "parent_directory = os.path.dirname(current_directory)\n",
    "# Add the parent directory to sys.path\n",
    "sys.path.append(parent_directory)"
   ]
  },
  {
   "cell_type": "markdown",
   "id": "b8558359-de96-41b6-a5c1-bc00c3adabea",
   "metadata": {},
   "source": [
    "Write a Python function called:\n",
    "mean_digit_vector, eigenvectors = get_eigenvectors(data_file_path, digit)\n",
    "That behaves as follows:\n",
    "\n",
    "*Accepts as arguments the path to a .csv text file that contains examples of handwritten digits, and a \"digit\" label that corresponds to one of the digits 0-9.\n",
    "\n",
    "*Returns the mean digit as a vector and the eigenvectors for images corresponding to the \"digit\" parameter.\n",
    "\n",
    "The mnist_data.csv file contains the 10,000 training examples of 28x28 images of handwritten digits and the corresponding labels. Each row consists of 785 values: the first value is the label (a number from 0 to 9) and the remaining 784 values are the pixel values (a number from 0 to 255)."
   ]
  },
  {
   "cell_type": "code",
   "execution_count": 4,
   "id": "c110a62a-2a2c-4c15-9c74-47e2042b2692",
   "metadata": {},
   "outputs": [
    {
     "data": {
      "image/png": "[encoded data removed]",
      "text/plain": [
       "<Figure size 1000x500 with 10 Axes>"
      ]
     },
     "metadata": {},
     "output_type": "display_data"
    }
   ],
   "source": [
    "#def get_eigenvectors(data_file_path, digit):\n",
    "#return mean_vector, eigenvectors\n",
    "data_file_path = os.path.join(current_directory, 'data', 'mnist_data.csv')\n",
    "digit = 2\n",
    "\n",
    "# Load the data from the CSV file\n",
    "data = np.loadtxt(data_file_path, delimiter=',')\n",
    "\n",
    "# Extract the labels and image data\n",
    "labels = data[:, 0]\n",
    "images = data[:, 1:]\n",
    "\n",
    "# Filter the data to get only the images of the specified digit\n",
    "digit_images = images[labels == digit]\n",
    "\n",
    "# Reshape the 28x28 images to 784-dimensional vectors\n",
    "digit_images = digit_images.reshape((digit_images.shape[0], 28 * 28))\n",
    "\n",
    "# Normalize the images to have zero mean and unit variance\n",
    "mean_image = np.mean(digit_images, axis=0)\n",
    "normalized_images = digit_images - mean_image\n",
    "\n",
    "# Calculate the standard deviation and add a small epsilon to avoid division by zero\n",
    "#std_dev = np.std(normalized_images, axis=0)\n",
    "#epsilon = 1e-10  # Small epsilon to prevent division by zero\n",
    "#std_dev = np.maximum(std_dev, epsilon)\n",
    "\n",
    "# Calculate the covariance matrix and perform PCA\n",
    "covariance_matrix = np.cov(normalized_images, rowvar=False)\n",
    "eigenvalues, eigenvectors = np.linalg.eigh(covariance_matrix)\n",
    "\n",
    "# Sort the eigenvalues and eigenvectors in descending order\n",
    "sorted_indices = np.argsort(eigenvalues)[::-1]\n",
    "eigenvalues = eigenvalues[sorted_indices]\n",
    "eigenvectors = eigenvectors[:, sorted_indices]\n",
    "\n",
    "# Visualize the top 10 eigenvectors\n",
    "plt.figure(figsize=(10, 5))\n",
    "for i in range(10):\n",
    "    plt.subplot(2, 5, i+1), plt.imshow(eigenvectors[:, i].reshape(28, 28), cmap='gray')\n",
    "    plt.title(\"Eigenvector \" + str(i)), plt.xticks([]), plt.yticks([])\n",
    "plt.show()\n",
    "\n",
    "#return mean_image, eigenvectors"
   ]
  },
  {
   "cell_type": "markdown",
   "id": "732a7cda-34b6-472c-9a4c-3eab71c193bd",
   "metadata": {},
   "source": [
    "Write a function that is called: \r\n",
    "detection_center = pca_detect_digit(image, mean_digit, eigenvectors, N\n",
    ")\r\n",
    "that takes as arguments an image (such as the noisy images shown in Figure 1), the mean digit image (28x28 2D array), the eigenvectors as computed in Task 1 for the digit \"2\", and a number N that specifies how many eigenvectors to us\n",
    "\n",
    "e. Your function should evaluate each subwindow of size 28x28 of the input image based on the sum of squared differences between the original subwindow, and the reconstruction of the subwindow using the top N eigenvector\n",
    "\n",
    "s. Your function should NOT search over multiple scales. Also, your function should rely only on PCA, and should NOT use any other techniques. Furthermore, your pca_detect_digit should satisfy the following specifications:\r\n",
    "\r\n",
    "It returns a 1x2 matrix (one row, two columns), containing the row (first) and column (second) of the center of the best-matching subwi\n",
    "\n",
    "Use the samples in test_data.zip to test your function, with N=10 (i.e., using the top 10 eigenvectors).\n",
    "If we define \"correct detection\" to mean that the digit is completely inside the bounding box, my solution detects correctly the twos in 18 out of 20 images of twos.\r\n",
    "\r\n",
    "Tips:\r\n",
    "\r\n",
    "1. To load the mnist_data.csv data file you can use np.loadtxt with the character ',' as the delimiter.\r\n",
    "\r\n",
    "2. Before applying PCA on the 28x28 MNIST images, make sure they have been converted to 784-dimensional vectors and have normalized each image vector to zero mean and unit vector.\r\n",
    "\r\n",
    "3. The reconstruction error of each 28x28 subwindow of the test image can be computed by first converting that window into a 784-dimensional vector, projecting it to 10-dimensions using the top 10 principal components, and then back-projecting it to a 784-dimensional vector. The sum of squared pixel differences of the original vector with the reconstructed one is the reconstruction error. \r\n",
    "\r\n",
    "4. Make sure you understand when to use an image as a 2D array, and when to use it as a flattened vector. Also, make you apply the same types of normalization to all your images/vectors.ndow."
   ]
  },
  {
   "cell_type": "code",
   "execution_count": 6,
   "id": "5e54ee19-5dec-4cfe-a8db-7dc1ddf6e5e6",
   "metadata": {},
   "outputs": [
    {
     "ename": "TypeError",
     "evalue": "join() argument must be str, bytes, or os.PathLike object, not 'list'",
     "output_type": "error",
     "traceback": [
      "\u001b[1;31m---------------------------------------------------------------------------\u001b[0m",
      "\u001b[1;31mTypeError\u001b[0m                                 Traceback (most recent call last)",
      "Cell \u001b[1;32mIn[6], line 5\u001b[0m\n\u001b[0;32m      3\u001b[0m test_data_dir \u001b[38;5;241m=\u001b[39m os\u001b[38;5;241m.\u001b[39mpath\u001b[38;5;241m.\u001b[39mjoin(current_directory, \u001b[38;5;124m'\u001b[39m\u001b[38;5;124mdata\u001b[39m\u001b[38;5;124m'\u001b[39m, \u001b[38;5;124m'\u001b[39m\u001b[38;5;124mtest_data\u001b[39m\u001b[38;5;124m'\u001b[39m)\n\u001b[0;32m      4\u001b[0m test_data_files \u001b[38;5;241m=\u001b[39m os\u001b[38;5;241m.\u001b[39mlistdir(test_data_dir)\n\u001b[1;32m----> 5\u001b[0m image \u001b[38;5;241m=\u001b[39m cv2\u001b[38;5;241m.\u001b[39mimread(\u001b[43mos\u001b[49m\u001b[38;5;241;43m.\u001b[39;49m\u001b[43mpath\u001b[49m\u001b[38;5;241;43m.\u001b[39;49m\u001b[43mjoin\u001b[49m\u001b[43m(\u001b[49m\u001b[43mtest_data_dir\u001b[49m\u001b[43m,\u001b[49m\u001b[43m \u001b[49m\u001b[43mtest_data_files\u001b[49m\u001b[43m)\u001b[49m, cv2\u001b[38;5;241m.\u001b[39mIMREAD_GRAYSCALE)\n\u001b[0;32m      6\u001b[0m mean_digit \u001b[38;5;241m=\u001b[39m mean_vector\u001b[38;5;241m.\u001b[39mreshape(\u001b[38;5;241m28\u001b[39m, \u001b[38;5;241m28\u001b[39m)\n\u001b[0;32m      7\u001b[0m N\u001b[38;5;241m=\u001b[39m\u001b[38;5;241m10\u001b[39m\n",
      "File \u001b[1;32m<frozen ntpath>:147\u001b[0m, in \u001b[0;36mjoin\u001b[1;34m(path, *paths)\u001b[0m\n",
      "File \u001b[1;32m<frozen genericpath>:152\u001b[0m, in \u001b[0;36m_check_arg_types\u001b[1;34m(funcname, *args)\u001b[0m\n",
      "\u001b[1;31mTypeError\u001b[0m: join() argument must be str, bytes, or os.PathLike object, not 'list'"
     ]
    }
   ],
   "source": [
    "#def pca_detect_digit(image, mean_digit, eigenvectors, N):\n",
    "#return detection_center\n",
    "test_data_dir = os.path.join(current_directory, 'data', 'test_data')\n",
    "test_data_files = os.listdir(test_data_dir)\n",
    "image = cv2.imread(os.path.join(test_data_dir, test_data_files), cv2.IMREAD_GRAYSCALE)\n",
    "mean_digit = mean_vector.reshape(28, 28)\n",
    "N=10\n",
    "\n",
    "# Get the dimensions of the input image\n",
    "image_height, image_width = image.shape\n",
    "\n",
    "# Initialize variables to store the best match and its error\n",
    "best_match_error = float('inf')\n",
    "best_match_center = (0, 0)\n",
    "\n",
    "# Iterate over subwindows of size 28x28\n",
    "for row in range(image_height - 27):\n",
    "    for col in range(image_width - 27):\n",
    "        # Extract the current subwindow\n",
    "        subwindow = image[row:row+28, col:col+28]\n",
    "        \n",
    "        # Reshape the subwindow to a 784-dimensional vector\n",
    "        subwindow_vector = subwindow.reshape(784)\n",
    "        \n",
    "        # Normalize the subwindow to zero mean and unit variance\n",
    "        subwindow_vector -= mean_digit\n",
    "        subwindow_vector /= np.maximum(np.std(subwindow_vector), 1e-10)\n",
    "        \n",
    "        # Project the subwindow to N dimensions using the top N eigenvectors\n",
    "        projection = np.dot(subwindow_vector, eigenvectors[:, :N])\n",
    "        \n",
    "        # Back-project the projection to a 784-dimensional vector\n",
    "        reconstruction = np.dot(projection, eigenvectors[:, :N].T)\n",
    "        \n",
    "        # Calculate the reconstruction error as the sum of squared pixel differences\n",
    "        error = np.sum((subwindow_vector - reconstruction) ** 2)\n",
    "        \n",
    "        # Check if this subwindow has a lower error\n",
    "        if error < best_match_error:\n",
    "            best_match_error = error\n",
    "#            best_match_center = (row + 14, col + 14)  # Center of the 28x28 subwindow\n",
    "\n",
    "image_with_rectangle = draw_rectangle(image, detection_center[0]-14, detection_center[0]+14, detection_center[1]-14, detection_center[1]+14)\n",
    "\n",
    "plt.imshow(image_with_rectangle, cmap='gray')\n",
    "plt.show()\n",
    "\n",
    "#return best_match_center"
   ]
  },
  {
   "cell_type": "code",
   "execution_count": null,
   "id": "77b05bf5-48d9-490a-9181-b4a213ba5c52",
   "metadata": {},
   "outputs": [],
   "source": []
  }
 ],
 "metadata": {
  "kernelspec": {
   "display_name": "Python 3 (ipykernel)",
   "language": "python",
   "name": "python3"
  },
  "language_info": {
   "codemirror_mode": {
    "name": "ipython",
    "version": 3
   },
   "file_extension": ".py",
   "mimetype": "text/x-python",
   "name": "python",
   "nbconvert_exporter": "python",
   "pygments_lexer": "ipython3",
   "version": "3.11.4"
  }
 },
 "nbformat": 4,
 "nbformat_minor": 5
}
