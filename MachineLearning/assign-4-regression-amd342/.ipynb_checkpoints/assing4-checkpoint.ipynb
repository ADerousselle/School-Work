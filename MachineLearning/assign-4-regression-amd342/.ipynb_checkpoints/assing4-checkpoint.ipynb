{
 "cells": [
  {
   "cell_type": "markdown",
   "metadata": {},
   "source": [
    "# CS4347 Assignment 4: Regression on the Wine Quality Dataset\n",
    "\n",
    "## Dataset\n",
    "The Wine Quality dataset consists of 11 input variables and 1 output variable, which is the quality of the wine on a scale of 0 to 10. The input variables include information about the physicochemical properties of the wine, such as its acidity, pH, and alcohol content. The dataset contains two files, `winequality-white.csv` with 4898 samples and `winequality-red.csv` with 1599 samples. The dataset is available at https://archive.ics.uci.edu/ml/datasets/wine+quality. In this assignment we will use the white wine dataset. The dataset has been downloaded for you and is available in the `data` folder.\n",
    "\n",
    "## Task 1 [50 points]: Compare the performance of linear regression, kNN regression, and decision tree regression implemented in the Scikit-learn library on the Wine Quality dataset.\n",
    "\n",
    "In each one of the steps below, you can import the necessary libraries required to complete the task."
   ]
  },
  {
   "cell_type": "markdown",
   "metadata": {
    "tags": []
   },
   "source": [
    "### 1. Load the `winequality-white.csv` dataset from the CSV file and display the first 5 rows, and display a histogram of the quality values."
   ]
  },
  {
   "cell_type": "code",
   "execution_count": 67,
   "metadata": {},
   "outputs": [
    {
     "name": "stdout",
     "output_type": "stream",
     "text": [
      "   fixed acidity  volatile acidity  citric acid  residual sugar  chlorides  \\\n",
      "0            7.0              0.27         0.36            20.7      0.045   \n",
      "1            6.3              0.30         0.34             1.6      0.049   \n",
      "2            8.1              0.28         0.40             6.9      0.050   \n",
      "3            7.2              0.23         0.32             8.5      0.058   \n",
      "4            7.2              0.23         0.32             8.5      0.058   \n",
      "\n",
      "   free sulfur dioxide  total sulfur dioxide  density    pH  sulphates  \\\n",
      "0                 45.0                 170.0   1.0010  3.00       0.45   \n",
      "1                 14.0                 132.0   0.9940  3.30       0.49   \n",
      "2                 30.0                  97.0   0.9951  3.26       0.44   \n",
      "3                 47.0                 186.0   0.9956  3.19       0.40   \n",
      "4                 47.0                 186.0   0.9956  3.19       0.40   \n",
      "\n",
      "   alcohol  quality  \n",
      "0      8.8        6  \n",
      "1      9.5        6  \n",
      "2     10.1        6  \n",
      "3      9.9        6  \n",
      "4      9.9        6  \n"
     ]
    }
   ],
   "source": [
    "import pandas as pd\n",
    "import numpy as np\n",
    "import matplotlib.pyplot as plt\n",
    "from sklearn.model_selection import train_test_split\n",
    "from sklearn.metrics import mean_squared_error, r2_score\n",
    "from sklearn.linear_model import LinearRegression\n",
    "from sklearn.neighbors import KNeighborsRegressor\n",
    "from sklearn.tree import DecisionTreeRegressor\n",
    "\n",
    "data_path = './data/winequality-white.csv'\n",
    "data = pd.read_csv(data_path, sep = ';')\n",
    "df = pd.DataFrame(data)\n",
    "\n",
    "print(df.head(5))"
   ]
  },
  {
   "cell_type": "code",
   "execution_count": 68,
   "metadata": {},
   "outputs": [
    {
     "data": {
      "text/plain": [
       "(array([   0.,    0.,    0.,   20.,  163., 1457., 2198.,  880.,  175.,\n",
       "           5.,    0.]),\n",
       " array([ 0.,  1.,  2.,  3.,  4.,  5.,  6.,  7.,  8.,  9., 10., 11.]),\n",
       " <BarContainer object of 11 artists>)"
      ]
     },
     "execution_count": 68,
     "metadata": {},
     "output_type": "execute_result"
    },
    {
     "data": {
      "image/png": "[encoded data removed]",
      "text/plain": [
       "<Figure size 640x480 with 1 Axes>"
      ]
     },
     "metadata": {},
     "output_type": "display_data"
    }
   ],
   "source": [
    "dfHist = plt.hist(df['quality'], bins = [0, 1, 2, 3, 4, 5, 6, 7, 8, 9, 10, 11], align = 'left', edgecolor = 'w')\n",
    "plt.xticks([0, 1, 2, 3, 4, 5, 6, 7, 8, 9, 10])\n",
    "dfHist\n"
   ]
  },
  {
   "cell_type": "markdown",
   "metadata": {
    "tags": []
   },
   "source": [
    "### 2. Split the dataset into features `X` and target variables `y`, and then split them into training and test sets using a 70/30 split, using a random seed of 43. Display the shapes of the training and test sets."
   ]
  },
  {
   "cell_type": "code",
   "execution_count": 69,
   "metadata": {},
   "outputs": [
    {
     "name": "stdout",
     "output_type": "stream",
     "text": [
      "X_train shape: (3428, 11)\n",
      "X_test shape:  (1470, 11)\n",
      "y_train shape: (3428,)\n",
      "y_test shape:  (1470,)\n"
     ]
    }
   ],
   "source": [
    "X = df.loc[:, 'fixed acidity':'alcohol'].values\n",
    "y = df['quality'].values\n",
    "\n",
    "X_train, X_test, y_train, y_test = train_test_split(X, y,\n",
    "                                                    test_size= .3,\n",
    "                                                    random_state = 43,\n",
    "                                                    shuffle = True)\n",
    "print(\"X_train shape: {}\".format(X_train.shape))\n",
    "print(\"X_test shape:  {}\".format(X_test.shape))\n",
    "print(\"y_train shape: {}\".format(y_train.shape))\n",
    "print(\"y_test shape:  {}\".format(y_test.shape))"
   ]
  },
  {
   "cell_type": "markdown",
   "metadata": {
    "tags": []
   },
   "source": [
    "### 3. Instantiate the three regression models: `LinearRegression`, `KNeighborsRegressor`, and `DecisionTreeRegressor`.\n",
    "\n",
    "For the `KNeighborsRegressor`, set the number of neighbors to 5 and the distance metric to Euclidian distance. For the `DecisionTreeRegressor`, set the maximum depth to 5."
   ]
  },
  {
   "cell_type": "code",
   "execution_count": 70,
   "metadata": {},
   "outputs": [],
   "source": [
    "lin_model = LinearRegression()\n",
    "knn_model = KNeighborsRegressor( metric= 'euclidean', n_neighbors = 5)\n",
    "dt_model = DecisionTreeRegressor( max_depth = 5)"
   ]
  },
  {
   "cell_type": "markdown",
   "metadata": {},
   "source": [
    "### 4. Fit each model on the training data and predict the target variable for the test data."
   ]
  },
  {
   "cell_type": "code",
   "execution_count": 71,
   "metadata": {},
   "outputs": [],
   "source": [
    "lin_model.fit(X_train, y_train)\n",
    "knn_model.fit(X_train, y_train)\n",
    "dt_model.fit(X_train, y_train)\n",
    "\n",
    "y_pred_lin = lin_model.predict(X_test)\n",
    "y_pred_knn = knn_model.predict(X_test)\n",
    "y_pred_dt = dt_model.predict(X_test)"
   ]
  },
  {
   "cell_type": "markdown",
   "metadata": {},
   "source": [
    "### 5. Implement functions to calculate the Residual Standard Error (RSE) and R-squared for each model.\n",
    "\n",
    "The Residual Sum of Squares (RSS) and Total Sum of Squares (TSS) are defined respectively as $ RSS = \\sum_{i=1}^{n}(y_i - \\hat{y_i})^2 $ and $ TSS = \\sum_{i=1}^{n}(y_i - \\bar{y})^2 $, where $y_i$ is the i-th observed value of the dependent variable, $\\hat{y_i}$ is the predicted value of the dependent variable for the i-th observation, and the sum is taken over all n observations.\n",
    "\n",
    "The Residual Standard Error (RSE) is define as:\n",
    "\n",
    "$$ RSE = \\sqrt{\\frac{\\sum_{i=1}^{n}(y_i - \\hat{y_i})^2}{n - p - 1}} = \\sqrt{\\frac{RSS}{n - p - 1}} $$\n",
    "\n",
    "where n is the number of observations, and p is the number of parameters in the model.\n",
    "\n",
    "The $R^2$ (R-squared) is define as:\n",
    "\n",
    "$$ R^2 = 1 - \\frac{\\sum_{i=1}^{n}(y_i - \\hat{y_i})^2}{\\sum_{i=1}^{n}(y_i - \\bar{y})^2} = 1 - \\frac{RSS}{TSS}$$\n",
    "\n",
    "**Implement the functions `rse()` and `r_squared()` based on the above formulas to use for the calculations.**"
   ]
  },
  {
   "cell_type": "code",
   "execution_count": 72,
   "metadata": {},
   "outputs": [],
   "source": [
    "def rse(y_test, y_pred):\n",
    "    rss = np.sum((y_test - y_pred)**2)\n",
    "    rse = np.sqrt(rss/(len(y_test)-10-1))\n",
    "    return rse\n",
    "\n",
    "def r_squared(y_test, y_pred):\n",
    "    y_mean = np.mean(y_test)\n",
    "    rss = np.sum((y_test - y_pred)**2)\n",
    "    tss = np.sum((y_test - y_mean)**2)\n",
    "    rsqrd = 1 - (rss/tss)\n",
    "    return rsqrd"
   ]
  },
  {
   "cell_type": "markdown",
   "metadata": {},
   "source": [
    "### 6. Use your functions to calculate the RSE and R-squared for each model using the predicted and actual target variables on the test data. Display the results."
   ]
  },
  {
   "cell_type": "code",
   "execution_count": 74,
   "metadata": {},
   "outputs": [
    {
     "name": "stdout",
     "output_type": "stream",
     "text": [
      "Linear Regression RSE: 0.7603\n",
      "Linear Regression R-SQRD: 0.2824\n",
      "KNeighbors Regressor RSE: 0.8299\n",
      "KNeighbors Regressor R-SQRD: 0.1449\n",
      "Decision Tree Regressor RSE: 0.7636\n",
      "Decision Tree Regressor R-SQRD: 0.2761\n"
     ]
    }
   ],
   "source": [
    "\n",
    "print('Linear Regression RSE: ' + f\"{rse(y_test, y_pred_lin):.4f}\")\n",
    "print('Linear Regression R-SQRD: ' + f\"{r_squared(y_test, y_pred_lin):.4f}\")\n",
    "print('KNeighbors Regressor RSE: ' + f\"{rse(y_test, y_pred_knn):.4f}\")\n",
    "print('KNeighbors Regressor R-SQRD: ' + f\"{r_squared(y_test, y_pred_knn):.4f}\")\n",
    "print('Decision Tree Regressor RSE: ' + f\"{rse(y_test, y_pred_dt):.4f}\")\n",
    "print('Decision Tree Regressor R-SQRD: ' + f\"{r_squared(y_test, y_pred_dt):.4f}\")"
   ]
  },
  {
   "cell_type": "markdown",
   "metadata": {},
   "source": [
    "### 7. Compare the performance of each model based on the R-squared and RSE scores. Which model performed the best? Which one performed the worst? What might be the reasons for the differences in performance? Write a brief report summarizing your findings and conclusions. Include a discussion of the strengths and weaknesses of each model and how they might be used in practice."
   ]
  },
  {
   "cell_type": "markdown",
   "metadata": {},
   "source": [
    "   Linear Regression has the lowest RSE score (.7603) and the highest R-Squared score (.2824). The Linear model performed the best out of the three, it was able to explain about 28% of the vairability of the data and had and average error of about .76. KNeighbor Regressor has the highest RSE score (.8299) and the lowest R-Squared score (.1449). The KNeighbor model performed the worst out of the three, it was only able to explain about 14% of the variability and had an average error of about .83. Decision Tree Regressor is in between the Linear and KNeighbor models in terms of both RSE score (.7637) and R-Squared score(.2761). The Decision Tree model despite not being the best was a very close second to the Linear model. It was able to explain 0.63% less of the variablity than the Linear model but 13% more than the KNeighbor model. It's average error was only .0034 more than the Linear model but .0662 less than the KNeighbor model.\n",
    "   \n",
    "   A possible reason for the differences in performance may be the parameters used when creating the models, such as the metric and number of neighbors used for the KNN model and the max depth of the Decision Tree model. It could also be due to the fact that linear regression assumes a relationship between the independent and dependent variables while KNN and Decision Tree regressions do not.\n",
    "   \n",
    "   The strengths of Linear regression is that it because it assumes a linear relationship is present between the independent and dependent variables it is very useful for data sets that do have a linear relationship. It is also quick to train and can thus make quick predictions on new data. While its assumption of a linear relationship is a strength when considering data that does have this relationship, it is not appropriate for data sets that do not have a linear relationship, and as such has trouble predicting data with more complex relationships.\n",
    "   The strenghts of KNN regression is that it makes no assumption on the relationsihp between independent and dependent variables, and can therefore be useful for evaluating data sets that do not have a linear relationship. But, KNN regression does take a lot of memory and computations to run, thus making it inefficient for larger data sets. It's predictive ability depends on the the number of neighbors it's allowed to compare with, as well as the the distance metric it uses.\n",
    "   The strenghts of Decision Tree regression is that it also makes no assumptions on the relationship between predictors and response variables, and so it is also useful for evaluating data sets without a linear relationship. But it is extremely sensitive to changes in the data set that may drastically change the decision tree.\n",
    "\n",
    "   Overall the best choice of regression model may depend on the problem itself, the available data, and if a clear linear relationship exists between the independent and dependent variables."
   ]
  },
  {
   "cell_type": "markdown",
   "metadata": {},
   "source": [
    "## Task 2 [50 points]: Implement KNN Regression from scratch\n",
    "\n",
    "### 1. Implement the KNN Regression algorithm from scratch. Your implementation should include the following functions:\n",
    "\n",
    "- `euclidean_distance(x1, x2)`: calculates the Euclidean distance between two data points.\n",
    "- `get_neighbors(X_train, y_train, x_test, k)`: finds the k nearest neighbors of a test data point in the training dataset.\n",
    "- `predict(X_train, y_train, x_test, k)`: predicts the output variable for a test data point using KNN Regression with k nearest neighbors.\n",
    "- `evaluate(X_train, y_train, X_test, y_test, k)`: evaluates the performance of the KNN Regression algorithm on a test dataset using the Residual Standard Error (RSE) and R-squared metrics."
   ]
  },
  {
   "cell_type": "code",
   "execution_count": 75,
   "metadata": {},
   "outputs": [],
   "source": [
    "def euclidean_distance(x1, x2):\n",
    "    return np.sqrt(np.sum((x1 - x2)**2))\n",
    "\n",
    "def get_neighbors(X_train, y_train, x_test, k):\n",
    "    dist_to_x_test = []*len(X_train)\n",
    "    k_neighbors = []*k\n",
    "    for i in range(len(X_train)):\n",
    "        dist_to_x_test.append((X_train[i], y_train[i], euclidean_distance(X_train[i], x_test)))\n",
    "    dist_to_x_test.sort(key=lambda i: i[2])\n",
    "    for i in range(k):\n",
    "        k_neighbors.append((dist_to_x_test[i][0], dist_to_x_test[i][1]))\n",
    "    return k_neighbors\n",
    "    \n",
    "def predict(X_train, y_train, x_test, k):\n",
    "    k_neighbors = get_neighbors(X_train, y_train, x_test, k)\n",
    "    y_pred = np.mean([neighbor[1] for neighbor in k_neighbors])\n",
    "    return y_pred\n",
    "    \n",
    "def evaluate(X_train, y_train, X_test, y_test, k):\n",
    "    y_preds = np.array([predict(X_train, y_train, x_test_pnt, k) for x_test_pnt in X_test])\n",
    "    \n",
    "    rss = np.sum((y_test - y_preds)**2)\n",
    "    rse = np.sqrt(rss/(len(y_test)-10-1))\n",
    "\n",
    "    \n",
    "    y_mean = np.mean(y_test)\n",
    "    tss = np.sum((y_test - y_mean)**2)\n",
    "    rsqrd = 1 - (rss/tss)\n",
    "    return rse, rsqrd"
   ]
  },
  {
   "cell_type": "markdown",
   "metadata": {},
   "source": [
    "### 2. Train your KNN Regression model on the training dataset using k=5 and the same train/test splits that you used in Task 1. Evaluate the performance of your KNN Regression model on the testing dataset using the evaluate function. Report the RSE and R-squared values."
   ]
  },
  {
   "cell_type": "code",
   "execution_count": 76,
   "metadata": {},
   "outputs": [
    {
     "name": "stdout",
     "output_type": "stream",
     "text": [
      "Residual Standard Error: 0.8299\n",
      "R-squared: 0.1449\n"
     ]
    }
   ],
   "source": [
    "data_path = './data/winequality-white.csv'\n",
    "data = pd.read_csv(data_path, sep = ';')\n",
    "df = pd.DataFrame(data)\n",
    "\n",
    "X = df.loc[:, 'fixed acidity':'alcohol'].values\n",
    "y = df['quality'].values\n",
    "\n",
    "X_train, X_test, y_train, y_test = train_test_split(X, y,\n",
    "                                                    test_size= .3,\n",
    "                                                    random_state = 43,\n",
    "                                                    shuffle = True)\n",
    "\n",
    "rse, rsqrd = evaluate(X_train, y_train, X_test, y_test, 5)\n",
    "\n",
    "print(\"Residual Standard Error: \" + f\"{rse:.4f}\")\n",
    "print(\"R-squared: \" + f\"{rsqrd:.4f}\")\n"
   ]
  },
  {
   "cell_type": "markdown",
   "metadata": {},
   "source": [
    "### 3. Write a brief report summarizing your observations. Include a discussion of the strengths and weaknesses of your implementation of KNN Regression. How does your implementation compare to the Scikit-learn implementation? Are there differences in the prediction accuracy and speed of the two implementations?"
   ]
  },
  {
   "cell_type": "markdown",
   "metadata": {},
   "source": [
    "The strengths of my implementation KNN Regression from scratch is that it's code is clear and concise, but more notable is it's accuracy. My implementation of KNN Regression appears to be as accurate as the Scikit-learn implementation. Above I only displayed four decimal places for the  Residual Standard Error and R-squared calculations, for both the Scikit-learn version and my version of KNN Regression, for simplicity. But, I also checked to see how they compare to each other for up to 20 decimal places, both have a RSE of 0.82990705277398546524 and an R-squared score of 0.14485526190867659135. \n",
    "The blatant weakness of my implementation of KNN Regression is that it is inefficient comapred to the Scikit-learn implementation. While it does take a few seconds to independently initiate the execution of each cell for the Scikit-learn version, each cell clearly takes less than a second to execute. But when timed my implementation took roughly a minute and a half to fully execute."
   ]
  }
 ],
 "metadata": {
  "kernelspec": {
   "display_name": "Python 3 (ipykernel)",
   "language": "python",
   "name": "python3"
  },
  "language_info": {
   "codemirror_mode": {
    "name": "ipython",
    "version": 3
   },
   "file_extension": ".py",
   "mimetype": "text/x-python",
   "name": "python",
   "nbconvert_exporter": "python",
   "pygments_lexer": "ipython3",
   "version": "3.8.15"
  },
  "vscode": {
   "interpreter": {
    "hash": "aad5b032669a22d10aade9b71c16d8cc65c4a37ed7e83af7b59e17b6dee418eb"
   }
  }
 },
 "nbformat": 4,
 "nbformat_minor": 4
}
