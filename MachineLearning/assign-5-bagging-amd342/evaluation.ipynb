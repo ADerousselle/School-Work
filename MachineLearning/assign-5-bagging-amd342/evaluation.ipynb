{
 "cells": [
  {
   "cell_type": "markdown",
   "metadata": {},
   "source": [
    "# Evaluate the Custom Bagging Classifier"
   ]
  },
  {
   "cell_type": "code",
   "execution_count": 1,
   "metadata": {},
   "outputs": [],
   "source": [
    "# Import the ncessary libraries and modules\n",
    "from sklearn.metrics import confusion_matrix\n",
    "from sklearn.metrics import accuracy_score\n",
    "from sklearn.model_selection import train_test_split\n",
    "from sklearn.tree import DecisionTreeClassifier\n",
    "from sklearn.ensemble import BaggingClassifier\n",
    "from sklearn import datasets\n",
    "import bagging"
   ]
  },
  {
   "cell_type": "markdown",
   "metadata": {},
   "source": [
    "### Evaluate the Custom Bagging Classifier on the Scikit-Learn **Iris dataset** and compare the results with the Scikit-learn `BaggingClassifier`. Print the **accuracy score** and the **confusion matrix** for both models. For replicability, use a `random_state` of 43 for the `train_test_split` and a `test_size` of 0.25. Use a `DecisionTreeClassifier` of `max_depth=2` as the base estimator and a `n_estimators=10` for both models."
   ]
  },
  {
   "cell_type": "code",
   "execution_count": 2,
   "metadata": {},
   "outputs": [
    {
     "name": "stdout",
     "output_type": "stream",
     "text": [
      "Custom Bagging Classifier:\n",
      "\tAccuracy:  0.9473684210526315\n",
      "\tConfusion Matrix:\n",
      " [[14  0  0]\n",
      " [ 0 12  0]\n",
      " [ 0  2 10]]\n",
      "\n",
      "SciKit-Learn Bagging Classifier:\n",
      "\tAccuracy:  0.9736842105263158\n",
      "\tConfusion Matrix:\n",
      " [[14  0  0]\n",
      " [ 0 12  0]\n",
      " [ 0  1 11]]\n"
     ]
    },
    {
     "name": "stderr",
     "output_type": "stream",
     "text": [
      "C:\\Users\\abiga\\OneDrive\\Documents\\amd342\\Machine Learning\\assignmentRepos\\assign-5-bagging-amd342\\bagging.py:92: FutureWarning: Unlike other reduction functions (e.g. `skew`, `kurtosis`), the default behavior of `mode` typically preserves the axis it acts along. In SciPy 1.11.0, this behavior will change: the default value of `keepdims` will become False, the `axis` over which the statistic is taken will be eliminated, and the value None will no longer be accepted. Set `keepdims` to True or False to avoid this warning.\n",
      "  pred, count = mode(predictions, axis=0)\n"
     ]
    }
   ],
   "source": [
    "iris = datasets.load_iris()\n",
    "X, y = iris.data, iris.target\n",
    "\n",
    "X_train, X_test, y_train, y_test = train_test_split(X, y, test_size=.25, random_state=43)\n",
    "base_estimator = DecisionTreeClassifier(max_depth=2)\n",
    "\n",
    "cust_bag = bagging.CustomBaggingClassifier(base_estimator, n_estimators=10, random_state=43)\n",
    "cust_bag.fit(X_train, y_train)\n",
    "cust_y_pred = cust_bag.predict(X_test)\n",
    "cust_bag_acc = accuracy_score(y_test, cust_y_pred)\n",
    "cust_bag_conf = confusion_matrix(y_test, cust_y_pred)\n",
    "\n",
    "skl_bag = BaggingClassifier(base_estimator, n_estimators=10)\n",
    "skl_bag.fit(X_train, y_train)\n",
    "skl_y_pred = skl_bag.predict(X_test)\n",
    "skl_bag_acc = accuracy_score(y_test, skl_y_pred)\n",
    "skl_bag_conf = confusion_matrix(y_test, skl_y_pred)\n",
    "\n",
    "print(\"Custom Bagging Classifier:\")\n",
    "print(\"\\tAccuracy: \", cust_bag_acc)\n",
    "print(\"\\tConfusion Matrix:\\n\", cust_bag_conf)\n",
    "print()\n",
    "print(\"SciKit-Learn Bagging Classifier:\")\n",
    "print(\"\\tAccuracy: \", skl_bag_acc)\n",
    "print(\"\\tConfusion Matrix:\\n\", skl_bag_conf)"
   ]
  }
 ],
 "metadata": {
  "kernelspec": {
   "display_name": "Python 3 (ipykernel)",
   "language": "python",
   "name": "python3"
  },
  "language_info": {
   "codemirror_mode": {
    "name": "ipython",
    "version": 3
   },
   "file_extension": ".py",
   "mimetype": "text/x-python",
   "name": "python",
   "nbconvert_exporter": "python",
   "pygments_lexer": "ipython3",
   "version": "3.8.15"
  }
 },
 "nbformat": 4,
 "nbformat_minor": 4
}
